{
  "nbformat": 4,
  "nbformat_minor": 0,
  "metadata": {
    "colab": {
      "provenance": [],
      "collapsed_sections": []
    },
    "kernelspec": {
      "name": "python3",
      "display_name": "Python 3"
    },
    "language_info": {
      "name": "python"
    }
  },
  "cells": [
    {
      "cell_type": "markdown",
      "source": [
        "**LGMVIP - Data Science Intern, September-2022**\n",
        "\n",
        "**AUTHOR Name - Shaikh Zainab**"
      ],
      "metadata": {
        "id": "32koMKorPPAv"
      }
    },
    {
      "cell_type": "markdown",
      "source": [
        "**01 BEGINNER LEVEL task**"
      ],
      "metadata": {
        "id": "87N-exvVkDri"
      }
    },
    {
      "cell_type": "markdown",
      "source": [
        "**2)Stock Market Prediction And Forecasting Using Stacked LSTM**"
      ],
      "metadata": {
        "id": "W0huMAeWkIT3"
      }
    },
    {
      "cell_type": "markdown",
      "source": [
        "**Data Collection**"
      ],
      "metadata": {
        "id": "9TNCUSEJpmZ3"
      }
    },
    {
      "cell_type": "markdown",
      "source": [
        "**Importing The Libraries**"
      ],
      "metadata": {
        "id": "wI1Ni9g1pqn0"
      }
    },
    {
      "cell_type": "code",
      "source": [
        "import numpy as np\n",
        "import matplotlib.pyplot as plt\n",
        "import pandas as pd\n",
        "from sklearn.preprocessing import MinMaxScaler\n",
        "import tensorflow as tf\n",
        "from tensorflow.python.keras.models import Sequential\n",
        "from tensorflow.python.keras.layers import Dense\n",
        "from tensorflow.python.keras.layers import LSTM\n",
        "import math\n",
        "from sklearn.metrics import mean_squared_error"
      ],
      "metadata": {
        "id": "MFx3wjKDkE_H"
      },
      "execution_count": null,
      "outputs": []
    },
    {
      "cell_type": "markdown",
      "source": [
        "**Reading The Dataset**"
      ],
      "metadata": {
        "id": "bZL1JFLepvEC"
      }
    },
    {
      "cell_type": "code",
      "source": [
        "data=pd.read_csv('/content/drive/MyDrive/Colab Notebooks/Lets Grow More Dataset/TataGlobal.csv')"
      ],
      "metadata": {
        "id": "v_nz6-6cmz8j"
      },
      "execution_count": null,
      "outputs": []
    },
    {
      "cell_type": "code",
      "source": [
        "data.head()"
      ],
      "metadata": {
        "colab": {
          "base_uri": "https://localhost:8080/",
          "height": 206
        },
        "id": "JFAMXKvqnfmu",
        "outputId": "6cbae03a-3671-4e6a-9dec-711aec43c810"
      },
      "execution_count": null,
      "outputs": [
        {
          "output_type": "execute_result",
          "data": {
            "text/plain": [
              "         Date    Open    High     Low    Last   Close  Total Trade Quantity  \\\n",
              "0  2018-09-28  234.05  235.95  230.20  233.50  233.75               3069914   \n",
              "1  2018-09-27  234.55  236.80  231.10  233.80  233.25               5082859   \n",
              "2  2018-09-26  240.00  240.00  232.50  235.00  234.25               2240909   \n",
              "3  2018-09-25  233.30  236.75  232.00  236.25  236.10               2349368   \n",
              "4  2018-09-24  233.55  239.20  230.75  234.00  233.30               3423509   \n",
              "\n",
              "   Turnover (Lacs)  \n",
              "0          7162.35  \n",
              "1         11859.95  \n",
              "2          5248.60  \n",
              "3          5503.90  \n",
              "4          7999.55  "
            ],
            "text/html": [
              "\n",
              "  <div id=\"df-773d148b-55d2-403e-a137-2682e365e2a0\">\n",
              "    <div class=\"colab-df-container\">\n",
              "      <div>\n",
              "<style scoped>\n",
              "    .dataframe tbody tr th:only-of-type {\n",
              "        vertical-align: middle;\n",
              "    }\n",
              "\n",
              "    .dataframe tbody tr th {\n",
              "        vertical-align: top;\n",
              "    }\n",
              "\n",
              "    .dataframe thead th {\n",
              "        text-align: right;\n",
              "    }\n",
              "</style>\n",
              "<table border=\"1\" class=\"dataframe\">\n",
              "  <thead>\n",
              "    <tr style=\"text-align: right;\">\n",
              "      <th></th>\n",
              "      <th>Date</th>\n",
              "      <th>Open</th>\n",
              "      <th>High</th>\n",
              "      <th>Low</th>\n",
              "      <th>Last</th>\n",
              "      <th>Close</th>\n",
              "      <th>Total Trade Quantity</th>\n",
              "      <th>Turnover (Lacs)</th>\n",
              "    </tr>\n",
              "  </thead>\n",
              "  <tbody>\n",
              "    <tr>\n",
              "      <th>0</th>\n",
              "      <td>2018-09-28</td>\n",
              "      <td>234.05</td>\n",
              "      <td>235.95</td>\n",
              "      <td>230.20</td>\n",
              "      <td>233.50</td>\n",
              "      <td>233.75</td>\n",
              "      <td>3069914</td>\n",
              "      <td>7162.35</td>\n",
              "    </tr>\n",
              "    <tr>\n",
              "      <th>1</th>\n",
              "      <td>2018-09-27</td>\n",
              "      <td>234.55</td>\n",
              "      <td>236.80</td>\n",
              "      <td>231.10</td>\n",
              "      <td>233.80</td>\n",
              "      <td>233.25</td>\n",
              "      <td>5082859</td>\n",
              "      <td>11859.95</td>\n",
              "    </tr>\n",
              "    <tr>\n",
              "      <th>2</th>\n",
              "      <td>2018-09-26</td>\n",
              "      <td>240.00</td>\n",
              "      <td>240.00</td>\n",
              "      <td>232.50</td>\n",
              "      <td>235.00</td>\n",
              "      <td>234.25</td>\n",
              "      <td>2240909</td>\n",
              "      <td>5248.60</td>\n",
              "    </tr>\n",
              "    <tr>\n",
              "      <th>3</th>\n",
              "      <td>2018-09-25</td>\n",
              "      <td>233.30</td>\n",
              "      <td>236.75</td>\n",
              "      <td>232.00</td>\n",
              "      <td>236.25</td>\n",
              "      <td>236.10</td>\n",
              "      <td>2349368</td>\n",
              "      <td>5503.90</td>\n",
              "    </tr>\n",
              "    <tr>\n",
              "      <th>4</th>\n",
              "      <td>2018-09-24</td>\n",
              "      <td>233.55</td>\n",
              "      <td>239.20</td>\n",
              "      <td>230.75</td>\n",
              "      <td>234.00</td>\n",
              "      <td>233.30</td>\n",
              "      <td>3423509</td>\n",
              "      <td>7999.55</td>\n",
              "    </tr>\n",
              "  </tbody>\n",
              "</table>\n",
              "</div>\n",
              "      <button class=\"colab-df-convert\" onclick=\"convertToInteractive('df-773d148b-55d2-403e-a137-2682e365e2a0')\"\n",
              "              title=\"Convert this dataframe to an interactive table.\"\n",
              "              style=\"display:none;\">\n",
              "        \n",
              "  <svg xmlns=\"http://www.w3.org/2000/svg\" height=\"24px\"viewBox=\"0 0 24 24\"\n",
              "       width=\"24px\">\n",
              "    <path d=\"M0 0h24v24H0V0z\" fill=\"none\"/>\n",
              "    <path d=\"M18.56 5.44l.94 2.06.94-2.06 2.06-.94-2.06-.94-.94-2.06-.94 2.06-2.06.94zm-11 1L8.5 8.5l.94-2.06 2.06-.94-2.06-.94L8.5 2.5l-.94 2.06-2.06.94zm10 10l.94 2.06.94-2.06 2.06-.94-2.06-.94-.94-2.06-.94 2.06-2.06.94z\"/><path d=\"M17.41 7.96l-1.37-1.37c-.4-.4-.92-.59-1.43-.59-.52 0-1.04.2-1.43.59L10.3 9.45l-7.72 7.72c-.78.78-.78 2.05 0 2.83L4 21.41c.39.39.9.59 1.41.59.51 0 1.02-.2 1.41-.59l7.78-7.78 2.81-2.81c.8-.78.8-2.07 0-2.86zM5.41 20L4 18.59l7.72-7.72 1.47 1.35L5.41 20z\"/>\n",
              "  </svg>\n",
              "      </button>\n",
              "      \n",
              "  <style>\n",
              "    .colab-df-container {\n",
              "      display:flex;\n",
              "      flex-wrap:wrap;\n",
              "      gap: 12px;\n",
              "    }\n",
              "\n",
              "    .colab-df-convert {\n",
              "      background-color: #E8F0FE;\n",
              "      border: none;\n",
              "      border-radius: 50%;\n",
              "      cursor: pointer;\n",
              "      display: none;\n",
              "      fill: #1967D2;\n",
              "      height: 32px;\n",
              "      padding: 0 0 0 0;\n",
              "      width: 32px;\n",
              "    }\n",
              "\n",
              "    .colab-df-convert:hover {\n",
              "      background-color: #E2EBFA;\n",
              "      box-shadow: 0px 1px 2px rgba(60, 64, 67, 0.3), 0px 1px 3px 1px rgba(60, 64, 67, 0.15);\n",
              "      fill: #174EA6;\n",
              "    }\n",
              "\n",
              "    [theme=dark] .colab-df-convert {\n",
              "      background-color: #3B4455;\n",
              "      fill: #D2E3FC;\n",
              "    }\n",
              "\n",
              "    [theme=dark] .colab-df-convert:hover {\n",
              "      background-color: #434B5C;\n",
              "      box-shadow: 0px 1px 3px 1px rgba(0, 0, 0, 0.15);\n",
              "      filter: drop-shadow(0px 1px 2px rgba(0, 0, 0, 0.3));\n",
              "      fill: #FFFFFF;\n",
              "    }\n",
              "  </style>\n",
              "\n",
              "      <script>\n",
              "        const buttonEl =\n",
              "          document.querySelector('#df-773d148b-55d2-403e-a137-2682e365e2a0 button.colab-df-convert');\n",
              "        buttonEl.style.display =\n",
              "          google.colab.kernel.accessAllowed ? 'block' : 'none';\n",
              "\n",
              "        async function convertToInteractive(key) {\n",
              "          const element = document.querySelector('#df-773d148b-55d2-403e-a137-2682e365e2a0');\n",
              "          const dataTable =\n",
              "            await google.colab.kernel.invokeFunction('convertToInteractive',\n",
              "                                                     [key], {});\n",
              "          if (!dataTable) return;\n",
              "\n",
              "          const docLinkHtml = 'Like what you see? Visit the ' +\n",
              "            '<a target=\"_blank\" href=https://colab.research.google.com/notebooks/data_table.ipynb>data table notebook</a>'\n",
              "            + ' to learn more about interactive tables.';\n",
              "          element.innerHTML = '';\n",
              "          dataTable['output_type'] = 'display_data';\n",
              "          await google.colab.output.renderOutput(dataTable, element);\n",
              "          const docLink = document.createElement('div');\n",
              "          docLink.innerHTML = docLinkHtml;\n",
              "          element.appendChild(docLink);\n",
              "        }\n",
              "      </script>\n",
              "    </div>\n",
              "  </div>\n",
              "  "
            ]
          },
          "metadata": {},
          "execution_count": 3
        }
      ]
    },
    {
      "cell_type": "code",
      "source": [
        "data.tail()"
      ],
      "metadata": {
        "colab": {
          "base_uri": "https://localhost:8080/",
          "height": 206
        },
        "id": "P3rn4itqnhN4",
        "outputId": "c420522e-c78a-4f61-bf80-55bf9de6173d"
      },
      "execution_count": null,
      "outputs": [
        {
          "output_type": "execute_result",
          "data": {
            "text/plain": [
              "            Date   Open    High     Low    Last   Close  Total Trade Quantity  \\\n",
              "2030  2010-07-27  117.6  119.50  112.00  118.80  118.65                586100   \n",
              "2031  2010-07-26  120.1  121.00  117.10  117.10  117.60                658440   \n",
              "2032  2010-07-23  121.8  121.95  120.25  120.35  120.65                281312   \n",
              "2033  2010-07-22  120.3  122.00  120.25  120.75  120.90                293312   \n",
              "2034  2010-07-21  122.1  123.00  121.05  121.10  121.55                658666   \n",
              "\n",
              "      Turnover (Lacs)  \n",
              "2030           694.98  \n",
              "2031           780.01  \n",
              "2032           340.31  \n",
              "2033           355.17  \n",
              "2034           803.56  "
            ],
            "text/html": [
              "\n",
              "  <div id=\"df-ff77eeff-0bcf-4a49-9687-753a5fe920d8\">\n",
              "    <div class=\"colab-df-container\">\n",
              "      <div>\n",
              "<style scoped>\n",
              "    .dataframe tbody tr th:only-of-type {\n",
              "        vertical-align: middle;\n",
              "    }\n",
              "\n",
              "    .dataframe tbody tr th {\n",
              "        vertical-align: top;\n",
              "    }\n",
              "\n",
              "    .dataframe thead th {\n",
              "        text-align: right;\n",
              "    }\n",
              "</style>\n",
              "<table border=\"1\" class=\"dataframe\">\n",
              "  <thead>\n",
              "    <tr style=\"text-align: right;\">\n",
              "      <th></th>\n",
              "      <th>Date</th>\n",
              "      <th>Open</th>\n",
              "      <th>High</th>\n",
              "      <th>Low</th>\n",
              "      <th>Last</th>\n",
              "      <th>Close</th>\n",
              "      <th>Total Trade Quantity</th>\n",
              "      <th>Turnover (Lacs)</th>\n",
              "    </tr>\n",
              "  </thead>\n",
              "  <tbody>\n",
              "    <tr>\n",
              "      <th>2030</th>\n",
              "      <td>2010-07-27</td>\n",
              "      <td>117.6</td>\n",
              "      <td>119.50</td>\n",
              "      <td>112.00</td>\n",
              "      <td>118.80</td>\n",
              "      <td>118.65</td>\n",
              "      <td>586100</td>\n",
              "      <td>694.98</td>\n",
              "    </tr>\n",
              "    <tr>\n",
              "      <th>2031</th>\n",
              "      <td>2010-07-26</td>\n",
              "      <td>120.1</td>\n",
              "      <td>121.00</td>\n",
              "      <td>117.10</td>\n",
              "      <td>117.10</td>\n",
              "      <td>117.60</td>\n",
              "      <td>658440</td>\n",
              "      <td>780.01</td>\n",
              "    </tr>\n",
              "    <tr>\n",
              "      <th>2032</th>\n",
              "      <td>2010-07-23</td>\n",
              "      <td>121.8</td>\n",
              "      <td>121.95</td>\n",
              "      <td>120.25</td>\n",
              "      <td>120.35</td>\n",
              "      <td>120.65</td>\n",
              "      <td>281312</td>\n",
              "      <td>340.31</td>\n",
              "    </tr>\n",
              "    <tr>\n",
              "      <th>2033</th>\n",
              "      <td>2010-07-22</td>\n",
              "      <td>120.3</td>\n",
              "      <td>122.00</td>\n",
              "      <td>120.25</td>\n",
              "      <td>120.75</td>\n",
              "      <td>120.90</td>\n",
              "      <td>293312</td>\n",
              "      <td>355.17</td>\n",
              "    </tr>\n",
              "    <tr>\n",
              "      <th>2034</th>\n",
              "      <td>2010-07-21</td>\n",
              "      <td>122.1</td>\n",
              "      <td>123.00</td>\n",
              "      <td>121.05</td>\n",
              "      <td>121.10</td>\n",
              "      <td>121.55</td>\n",
              "      <td>658666</td>\n",
              "      <td>803.56</td>\n",
              "    </tr>\n",
              "  </tbody>\n",
              "</table>\n",
              "</div>\n",
              "      <button class=\"colab-df-convert\" onclick=\"convertToInteractive('df-ff77eeff-0bcf-4a49-9687-753a5fe920d8')\"\n",
              "              title=\"Convert this dataframe to an interactive table.\"\n",
              "              style=\"display:none;\">\n",
              "        \n",
              "  <svg xmlns=\"http://www.w3.org/2000/svg\" height=\"24px\"viewBox=\"0 0 24 24\"\n",
              "       width=\"24px\">\n",
              "    <path d=\"M0 0h24v24H0V0z\" fill=\"none\"/>\n",
              "    <path d=\"M18.56 5.44l.94 2.06.94-2.06 2.06-.94-2.06-.94-.94-2.06-.94 2.06-2.06.94zm-11 1L8.5 8.5l.94-2.06 2.06-.94-2.06-.94L8.5 2.5l-.94 2.06-2.06.94zm10 10l.94 2.06.94-2.06 2.06-.94-2.06-.94-.94-2.06-.94 2.06-2.06.94z\"/><path d=\"M17.41 7.96l-1.37-1.37c-.4-.4-.92-.59-1.43-.59-.52 0-1.04.2-1.43.59L10.3 9.45l-7.72 7.72c-.78.78-.78 2.05 0 2.83L4 21.41c.39.39.9.59 1.41.59.51 0 1.02-.2 1.41-.59l7.78-7.78 2.81-2.81c.8-.78.8-2.07 0-2.86zM5.41 20L4 18.59l7.72-7.72 1.47 1.35L5.41 20z\"/>\n",
              "  </svg>\n",
              "      </button>\n",
              "      \n",
              "  <style>\n",
              "    .colab-df-container {\n",
              "      display:flex;\n",
              "      flex-wrap:wrap;\n",
              "      gap: 12px;\n",
              "    }\n",
              "\n",
              "    .colab-df-convert {\n",
              "      background-color: #E8F0FE;\n",
              "      border: none;\n",
              "      border-radius: 50%;\n",
              "      cursor: pointer;\n",
              "      display: none;\n",
              "      fill: #1967D2;\n",
              "      height: 32px;\n",
              "      padding: 0 0 0 0;\n",
              "      width: 32px;\n",
              "    }\n",
              "\n",
              "    .colab-df-convert:hover {\n",
              "      background-color: #E2EBFA;\n",
              "      box-shadow: 0px 1px 2px rgba(60, 64, 67, 0.3), 0px 1px 3px 1px rgba(60, 64, 67, 0.15);\n",
              "      fill: #174EA6;\n",
              "    }\n",
              "\n",
              "    [theme=dark] .colab-df-convert {\n",
              "      background-color: #3B4455;\n",
              "      fill: #D2E3FC;\n",
              "    }\n",
              "\n",
              "    [theme=dark] .colab-df-convert:hover {\n",
              "      background-color: #434B5C;\n",
              "      box-shadow: 0px 1px 3px 1px rgba(0, 0, 0, 0.15);\n",
              "      filter: drop-shadow(0px 1px 2px rgba(0, 0, 0, 0.3));\n",
              "      fill: #FFFFFF;\n",
              "    }\n",
              "  </style>\n",
              "\n",
              "      <script>\n",
              "        const buttonEl =\n",
              "          document.querySelector('#df-ff77eeff-0bcf-4a49-9687-753a5fe920d8 button.colab-df-convert');\n",
              "        buttonEl.style.display =\n",
              "          google.colab.kernel.accessAllowed ? 'block' : 'none';\n",
              "\n",
              "        async function convertToInteractive(key) {\n",
              "          const element = document.querySelector('#df-ff77eeff-0bcf-4a49-9687-753a5fe920d8');\n",
              "          const dataTable =\n",
              "            await google.colab.kernel.invokeFunction('convertToInteractive',\n",
              "                                                     [key], {});\n",
              "          if (!dataTable) return;\n",
              "\n",
              "          const docLinkHtml = 'Like what you see? Visit the ' +\n",
              "            '<a target=\"_blank\" href=https://colab.research.google.com/notebooks/data_table.ipynb>data table notebook</a>'\n",
              "            + ' to learn more about interactive tables.';\n",
              "          element.innerHTML = '';\n",
              "          dataTable['output_type'] = 'display_data';\n",
              "          await google.colab.output.renderOutput(dataTable, element);\n",
              "          const docLink = document.createElement('div');\n",
              "          docLink.innerHTML = docLinkHtml;\n",
              "          element.appendChild(docLink);\n",
              "        }\n",
              "      </script>\n",
              "    </div>\n",
              "  </div>\n",
              "  "
            ]
          },
          "metadata": {},
          "execution_count": 4
        }
      ]
    },
    {
      "cell_type": "code",
      "source": [
        "df1=data.reset_index()['Close']"
      ],
      "metadata": {
        "id": "3w7XpLYanmEs"
      },
      "execution_count": null,
      "outputs": []
    },
    {
      "cell_type": "code",
      "source": [
        "df1.shape"
      ],
      "metadata": {
        "colab": {
          "base_uri": "https://localhost:8080/"
        },
        "id": "pPeNFU18n1j7",
        "outputId": "a7cf0592-323a-448e-e7e0-81e3236369dc"
      },
      "execution_count": null,
      "outputs": [
        {
          "output_type": "execute_result",
          "data": {
            "text/plain": [
              "(2035,)"
            ]
          },
          "metadata": {},
          "execution_count": 6
        }
      ]
    },
    {
      "cell_type": "code",
      "source": [
        "plt.plot(df1)"
      ],
      "metadata": {
        "colab": {
          "base_uri": "https://localhost:8080/",
          "height": 282
        },
        "id": "xDkIfHxkn3hP",
        "outputId": "ec49cebb-33a9-41be-c9a8-1d2f20e35ec5"
      },
      "execution_count": null,
      "outputs": [
        {
          "output_type": "execute_result",
          "data": {
            "text/plain": [
              "[<matplotlib.lines.Line2D at 0x7efee9ee6d90>]"
            ]
          },
          "metadata": {},
          "execution_count": 7
        },
        {
          "output_type": "display_data",
          "data": {
            "text/plain": [
              "<Figure size 432x288 with 1 Axes>"
            ],
            "image/png": "[encoded data removed]"
          },
          "metadata": {
            "needs_background": "light"
          }
        }
      ]
    },
    {
      "cell_type": "markdown",
      "source": [
        "**LSTM are sensitive to the scale of the data,so we apply MinMax scaler**"
      ],
      "metadata": {
        "id": "Rw6rRHTOp-3Y"
      }
    },
    {
      "cell_type": "code",
      "source": [
        "scaler = MinMaxScaler(feature_range = (0,1))\n",
        "df1 = scaler.fit_transform(np.array(df1).reshape(-1,1))"
      ],
      "metadata": {
        "id": "GdxgZXrOn7LP"
      },
      "execution_count": null,
      "outputs": []
    },
    {
      "cell_type": "code",
      "source": [
        "df1.shape"
      ],
      "metadata": {
        "colab": {
          "base_uri": "https://localhost:8080/"
        },
        "id": "soOeVnI0n9zF",
        "outputId": "ddf142ce-b5f2-4704-a60b-3ffeb27de240"
      },
      "execution_count": null,
      "outputs": [
        {
          "output_type": "execute_result",
          "data": {
            "text/plain": [
              "(2035, 1)"
            ]
          },
          "metadata": {},
          "execution_count": 9
        }
      ]
    },
    {
      "cell_type": "code",
      "source": [
        "df1"
      ],
      "metadata": {
        "colab": {
          "base_uri": "https://localhost:8080/"
        },
        "id": "roXzSAASoA8k",
        "outputId": "e3c60af3-acc6-4e1d-bf5b-0aa88ef7af6d"
      },
      "execution_count": null,
      "outputs": [
        {
          "output_type": "execute_result",
          "data": {
            "text/plain": [
              "array([[0.62418301],\n",
              "       [0.62214052],\n",
              "       [0.62622549],\n",
              "       ...,\n",
              "       [0.1621732 ],\n",
              "       [0.16319444],\n",
              "       [0.16584967]])"
            ]
          },
          "metadata": {},
          "execution_count": 10
        }
      ]
    },
    {
      "cell_type": "markdown",
      "source": [
        "**Splitting dataset into train and test split**"
      ],
      "metadata": {
        "id": "YeQkRd-YqTi4"
      }
    },
    {
      "cell_type": "code",
      "source": [
        "training_size = int(len(df1) * 0.75)\n",
        "test_size = len(df1) - training_size\n",
        "train_data, test_data = df1[0:training_size,:], df1[training_size:len(df1),:1]"
      ],
      "metadata": {
        "id": "A0SVSxzAoCyT"
      },
      "execution_count": null,
      "outputs": []
    },
    {
      "cell_type": "markdown",
      "source": [
        "**Data preprocessing**"
      ],
      "metadata": {
        "id": "QhMK1OrSqdod"
      }
    },
    {
      "cell_type": "code",
      "source": [
        "def create_dataset(dataset, time_step = 1):\n",
        "    dataX, dataY = [], []\n",
        "    for i in range(len(dataset) - time_step - 1):\n",
        "        a = dataset[i:(i+time_step), 0]\n",
        "        dataX.append(a)\n",
        "        dataY.append(dataset[i+time_step, 0])\n",
        "    return np.array(dataX), np.array(dataY)"
      ],
      "metadata": {
        "id": "TdNiC8njoGWQ"
      },
      "execution_count": null,
      "outputs": []
    },
    {
      "cell_type": "code",
      "source": [
        "time_step = 100\n",
        "x_train, y_train = create_dataset(train_data, time_step)\n",
        "x_test, y_test = create_dataset(test_data, time_step)"
      ],
      "metadata": {
        "id": "3lnVZL2CoIbe"
      },
      "execution_count": null,
      "outputs": []
    },
    {
      "cell_type": "markdown",
      "source": [
        "**Reshape the input to be [samples, time steps, features] which is the requirement of LSTM**"
      ],
      "metadata": {
        "id": "tkU7QyEZqyO5"
      }
    },
    {
      "cell_type": "code",
      "source": [
        "x_train = x_train.reshape(x_train.shape[0], x_train.shape[1], 1)\n",
        "x_test = x_test.reshape(x_test.shape[0], x_test.shape[1], 1)"
      ],
      "metadata": {
        "id": "DMF07DM7oKk1"
      },
      "execution_count": null,
      "outputs": []
    },
    {
      "cell_type": "markdown",
      "source": [
        "**Create the LSTM Model**"
      ],
      "metadata": {
        "id": "073bxZjVq3Hx"
      }
    },
    {
      "cell_type": "code",
      "source": [
        "model = Sequential()\n",
        "model.add(LSTM(50, return_sequences = True, input_shape = (100,1)))\n",
        "model.add(LSTM(50, return_sequences = True))\n",
        "model.add(LSTM(50))\n",
        "model.add(Dense(1))\n",
        "model.compile(loss = 'mean_squared_error', optimizer = 'adam')"
      ],
      "metadata": {
        "id": "1DA25AHsoMiX"
      },
      "execution_count": null,
      "outputs": []
    },
    {
      "cell_type": "code",
      "source": [
        "model.summary()"
      ],
      "metadata": {
        "colab": {
          "base_uri": "https://localhost:8080/"
        },
        "id": "FWL1Co6EoR_H",
        "outputId": "16c7bf54-be1a-46bd-e905-96db818443b5"
      },
      "execution_count": null,
      "outputs": [
        {
          "output_type": "stream",
          "name": "stdout",
          "text": [
            "Model: \"sequential\"\n",
            "_________________________________________________________________\n",
            "Layer (type)                 Output Shape              Param #   \n",
            "=================================================================\n",
            "lstm (LSTM)                  (None, 100, 50)           10400     \n",
            "_________________________________________________________________\n",
            "lstm_1 (LSTM)                (None, 100, 50)           20200     \n",
            "_________________________________________________________________\n",
            "lstm_2 (LSTM)                (None, 50)                20200     \n",
            "_________________________________________________________________\n",
            "dense (Dense)                (None, 1)                 51        \n",
            "=================================================================\n",
            "Total params: 50,851\n",
            "Trainable params: 50,851\n",
            "Non-trainable params: 0\n",
            "_________________________________________________________________\n"
          ]
        }
      ]
    },
    {
      "cell_type": "code",
      "source": [
        "model.fit(x_train, y_train, validation_data = (x_test, y_test), epochs = 100, batch_size = 64, verbose = 1)"
      ],
      "metadata": {
        "colab": {
          "base_uri": "https://localhost:8080/"
        },
        "id": "lz5HZGDfoTuo",
        "outputId": "0bf23cf3-5ea0-49ea-f1c8-7e1a7259517e"
      },
      "execution_count": null,
      "outputs": [
        {
          "output_type": "stream",
          "name": "stdout",
          "text": [
            "Epoch 1/100\n",
            "23/23 [==============================] - 18s 320ms/step - loss: 0.0330 - val_loss: 0.0059\n",
            "Epoch 2/100\n",
            "23/23 [==============================] - 6s 251ms/step - loss: 0.0026 - val_loss: 0.0011\n",
            "Epoch 3/100\n",
            "23/23 [==============================] - 6s 264ms/step - loss: 0.0016 - val_loss: 0.0023\n",
            "Epoch 4/100\n",
            "23/23 [==============================] - 6s 269ms/step - loss: 0.0013 - val_loss: 0.0016\n",
            "Epoch 5/100\n",
            "23/23 [==============================] - 5s 230ms/step - loss: 0.0013 - val_loss: 0.0013\n",
            "Epoch 6/100\n",
            "23/23 [==============================] - 7s 287ms/step - loss: 0.0012 - val_loss: 0.0012\n",
            "Epoch 7/100\n",
            "23/23 [==============================] - 5s 207ms/step - loss: 0.0012 - val_loss: 0.0016\n",
            "Epoch 8/100\n",
            "23/23 [==============================] - 7s 315ms/step - loss: 0.0011 - val_loss: 0.0015\n",
            "Epoch 9/100\n",
            "23/23 [==============================] - 5s 236ms/step - loss: 0.0010 - val_loss: 0.0012\n",
            "Epoch 10/100\n",
            "23/23 [==============================] - 5s 240ms/step - loss: 0.0011 - val_loss: 9.6508e-04\n",
            "Epoch 11/100\n",
            "23/23 [==============================] - 5s 228ms/step - loss: 9.2365e-04 - val_loss: 0.0010\n",
            "Epoch 12/100\n",
            "23/23 [==============================] - 5s 207ms/step - loss: 9.4258e-04 - val_loss: 0.0014\n",
            "Epoch 13/100\n",
            "23/23 [==============================] - 5s 230ms/step - loss: 9.4368e-04 - val_loss: 9.9931e-04\n",
            "Epoch 14/100\n",
            "23/23 [==============================] - 5s 205ms/step - loss: 9.1160e-04 - val_loss: 0.0011\n",
            "Epoch 15/100\n",
            "23/23 [==============================] - 5s 204ms/step - loss: 8.7874e-04 - val_loss: 8.6963e-04\n",
            "Epoch 16/100\n",
            "23/23 [==============================] - 5s 207ms/step - loss: 8.0002e-04 - val_loss: 6.3363e-04\n",
            "Epoch 17/100\n",
            "23/23 [==============================] - 5s 204ms/step - loss: 7.9231e-04 - val_loss: 8.6632e-04\n",
            "Epoch 18/100\n",
            "23/23 [==============================] - 5s 205ms/step - loss: 7.6538e-04 - val_loss: 7.4315e-04\n",
            "Epoch 19/100\n",
            "23/23 [==============================] - 5s 204ms/step - loss: 7.8337e-04 - val_loss: 6.8577e-04\n",
            "Epoch 20/100\n",
            "23/23 [==============================] - 5s 228ms/step - loss: 7.3070e-04 - val_loss: 9.1160e-04\n",
            "Epoch 21/100\n",
            "23/23 [==============================] - 5s 214ms/step - loss: 7.6008e-04 - val_loss: 7.9436e-04\n",
            "Epoch 22/100\n",
            "23/23 [==============================] - 5s 227ms/step - loss: 6.9378e-04 - val_loss: 7.0255e-04\n",
            "Epoch 23/100\n",
            "23/23 [==============================] - 5s 210ms/step - loss: 6.6574e-04 - val_loss: 7.0085e-04\n",
            "Epoch 24/100\n",
            "23/23 [==============================] - 5s 204ms/step - loss: 6.3639e-04 - val_loss: 7.0638e-04\n",
            "Epoch 25/100\n",
            "23/23 [==============================] - 5s 206ms/step - loss: 6.9273e-04 - val_loss: 6.1731e-04\n",
            "Epoch 26/100\n",
            "23/23 [==============================] - 5s 207ms/step - loss: 7.0303e-04 - val_loss: 7.9586e-04\n",
            "Epoch 27/100\n",
            "23/23 [==============================] - 6s 255ms/step - loss: 6.4178e-04 - val_loss: 8.0165e-04\n",
            "Epoch 28/100\n",
            "23/23 [==============================] - 5s 208ms/step - loss: 6.0272e-04 - val_loss: 7.6549e-04\n",
            "Epoch 29/100\n",
            "23/23 [==============================] - 5s 205ms/step - loss: 6.4159e-04 - val_loss: 0.0010\n",
            "Epoch 30/100\n",
            "23/23 [==============================] - 5s 206ms/step - loss: 6.9880e-04 - val_loss: 7.8781e-04\n",
            "Epoch 31/100\n",
            "23/23 [==============================] - 5s 206ms/step - loss: 5.8163e-04 - val_loss: 6.8920e-04\n",
            "Epoch 32/100\n",
            "23/23 [==============================] - 5s 205ms/step - loss: 6.4495e-04 - val_loss: 7.7948e-04\n",
            "Epoch 33/100\n",
            "23/23 [==============================] - 5s 204ms/step - loss: 6.1008e-04 - val_loss: 4.4023e-04\n",
            "Epoch 34/100\n",
            "23/23 [==============================] - 5s 207ms/step - loss: 5.8252e-04 - val_loss: 6.3959e-04\n",
            "Epoch 35/100\n",
            "23/23 [==============================] - 5s 231ms/step - loss: 5.2691e-04 - val_loss: 8.1752e-04\n",
            "Epoch 36/100\n",
            "23/23 [==============================] - 5s 206ms/step - loss: 5.4027e-04 - val_loss: 6.8169e-04\n",
            "Epoch 37/100\n",
            "23/23 [==============================] - 5s 206ms/step - loss: 5.3139e-04 - val_loss: 5.6165e-04\n",
            "Epoch 38/100\n",
            "23/23 [==============================] - 5s 229ms/step - loss: 5.8788e-04 - val_loss: 6.9918e-04\n",
            "Epoch 39/100\n",
            "23/23 [==============================] - 5s 206ms/step - loss: 5.5199e-04 - val_loss: 7.0003e-04\n",
            "Epoch 40/100\n",
            "23/23 [==============================] - 5s 205ms/step - loss: 4.9945e-04 - val_loss: 6.9230e-04\n",
            "Epoch 41/100\n",
            "23/23 [==============================] - 5s 206ms/step - loss: 5.1832e-04 - val_loss: 4.5081e-04\n",
            "Epoch 42/100\n",
            "23/23 [==============================] - 5s 207ms/step - loss: 5.1756e-04 - val_loss: 6.4786e-04\n",
            "Epoch 43/100\n",
            "23/23 [==============================] - 5s 206ms/step - loss: 4.9401e-04 - val_loss: 4.8974e-04\n",
            "Epoch 44/100\n",
            "23/23 [==============================] - 5s 205ms/step - loss: 5.0710e-04 - val_loss: 5.1218e-04\n",
            "Epoch 45/100\n",
            "23/23 [==============================] - 5s 206ms/step - loss: 4.7062e-04 - val_loss: 4.6656e-04\n",
            "Epoch 46/100\n",
            "23/23 [==============================] - 5s 205ms/step - loss: 4.6381e-04 - val_loss: 5.7324e-04\n",
            "Epoch 47/100\n",
            "23/23 [==============================] - 5s 207ms/step - loss: 4.8511e-04 - val_loss: 4.9340e-04\n",
            "Epoch 48/100\n",
            "23/23 [==============================] - 5s 206ms/step - loss: 4.6545e-04 - val_loss: 3.9903e-04\n",
            "Epoch 49/100\n",
            "23/23 [==============================] - 5s 205ms/step - loss: 5.0178e-04 - val_loss: 4.8251e-04\n",
            "Epoch 50/100\n",
            "23/23 [==============================] - 5s 203ms/step - loss: 4.7134e-04 - val_loss: 5.0166e-04\n",
            "Epoch 51/100\n",
            "23/23 [==============================] - 5s 204ms/step - loss: 4.8902e-04 - val_loss: 4.2125e-04\n",
            "Epoch 52/100\n",
            "23/23 [==============================] - 5s 207ms/step - loss: 4.0362e-04 - val_loss: 4.0707e-04\n",
            "Epoch 53/100\n",
            "23/23 [==============================] - 6s 256ms/step - loss: 4.2304e-04 - val_loss: 5.3931e-04\n",
            "Epoch 54/100\n",
            "23/23 [==============================] - 5s 206ms/step - loss: 4.2907e-04 - val_loss: 6.0408e-04\n",
            "Epoch 55/100\n",
            "23/23 [==============================] - 5s 207ms/step - loss: 4.6985e-04 - val_loss: 4.2600e-04\n",
            "Epoch 56/100\n",
            "23/23 [==============================] - 5s 208ms/step - loss: 3.9305e-04 - val_loss: 4.4444e-04\n",
            "Epoch 57/100\n",
            "23/23 [==============================] - 5s 204ms/step - loss: 4.3878e-04 - val_loss: 3.8692e-04\n",
            "Epoch 58/100\n",
            "23/23 [==============================] - 5s 205ms/step - loss: 3.8335e-04 - val_loss: 3.5787e-04\n",
            "Epoch 59/100\n",
            "23/23 [==============================] - 5s 208ms/step - loss: 4.2136e-04 - val_loss: 3.8245e-04\n",
            "Epoch 60/100\n",
            "23/23 [==============================] - 5s 208ms/step - loss: 3.5744e-04 - val_loss: 2.8990e-04\n",
            "Epoch 61/100\n",
            "23/23 [==============================] - 5s 205ms/step - loss: 3.7242e-04 - val_loss: 3.6020e-04\n",
            "Epoch 62/100\n",
            "23/23 [==============================] - 5s 205ms/step - loss: 4.5797e-04 - val_loss: 3.5571e-04\n",
            "Epoch 63/100\n",
            "23/23 [==============================] - 6s 254ms/step - loss: 3.8633e-04 - val_loss: 3.5612e-04\n",
            "Epoch 64/100\n",
            "23/23 [==============================] - 8s 352ms/step - loss: 3.4058e-04 - val_loss: 3.8538e-04\n",
            "Epoch 65/100\n",
            "23/23 [==============================] - 5s 207ms/step - loss: 3.2675e-04 - val_loss: 3.2304e-04\n",
            "Epoch 66/100\n",
            "23/23 [==============================] - 6s 264ms/step - loss: 3.3865e-04 - val_loss: 3.1807e-04\n",
            "Epoch 67/100\n",
            "23/23 [==============================] - 5s 234ms/step - loss: 3.3643e-04 - val_loss: 3.4696e-04\n",
            "Epoch 68/100\n",
            "23/23 [==============================] - 5s 205ms/step - loss: 3.0785e-04 - val_loss: 3.0012e-04\n",
            "Epoch 69/100\n",
            "23/23 [==============================] - 6s 253ms/step - loss: 3.3768e-04 - val_loss: 2.3555e-04\n",
            "Epoch 70/100\n",
            "23/23 [==============================] - 6s 262ms/step - loss: 3.2683e-04 - val_loss: 4.2902e-04\n",
            "Epoch 71/100\n",
            "23/23 [==============================] - 5s 205ms/step - loss: 3.5037e-04 - val_loss: 4.5400e-04\n",
            "Epoch 72/100\n",
            "23/23 [==============================] - 5s 204ms/step - loss: 3.3249e-04 - val_loss: 2.5430e-04\n",
            "Epoch 73/100\n",
            "23/23 [==============================] - 5s 209ms/step - loss: 2.9542e-04 - val_loss: 3.7476e-04\n",
            "Epoch 74/100\n",
            "23/23 [==============================] - 5s 206ms/step - loss: 2.8852e-04 - val_loss: 3.5213e-04\n",
            "Epoch 75/100\n",
            "23/23 [==============================] - 5s 211ms/step - loss: 2.7170e-04 - val_loss: 2.6273e-04\n",
            "Epoch 76/100\n",
            "23/23 [==============================] - 5s 206ms/step - loss: 2.7701e-04 - val_loss: 3.5828e-04\n",
            "Epoch 77/100\n",
            "23/23 [==============================] - 5s 208ms/step - loss: 2.8120e-04 - val_loss: 4.0326e-04\n",
            "Epoch 78/100\n",
            "23/23 [==============================] - 6s 251ms/step - loss: 3.4059e-04 - val_loss: 2.1301e-04\n",
            "Epoch 79/100\n",
            "23/23 [==============================] - 5s 207ms/step - loss: 2.6671e-04 - val_loss: 3.4425e-04\n",
            "Epoch 80/100\n",
            "23/23 [==============================] - 5s 206ms/step - loss: 2.7638e-04 - val_loss: 2.5605e-04\n",
            "Epoch 81/100\n",
            "23/23 [==============================] - 5s 205ms/step - loss: 2.7457e-04 - val_loss: 2.2860e-04\n",
            "Epoch 82/100\n",
            "23/23 [==============================] - 5s 225ms/step - loss: 2.5402e-04 - val_loss: 2.3336e-04\n",
            "Epoch 83/100\n",
            "23/23 [==============================] - 7s 308ms/step - loss: 2.5033e-04 - val_loss: 2.4086e-04\n",
            "Epoch 84/100\n",
            "23/23 [==============================] - 5s 205ms/step - loss: 2.7087e-04 - val_loss: 2.7079e-04\n",
            "Epoch 85/100\n",
            "23/23 [==============================] - 5s 204ms/step - loss: 3.8977e-04 - val_loss: 3.4471e-04\n",
            "Epoch 86/100\n",
            "23/23 [==============================] - 5s 204ms/step - loss: 3.2848e-04 - val_loss: 2.7227e-04\n",
            "Epoch 87/100\n",
            "23/23 [==============================] - 7s 291ms/step - loss: 2.5202e-04 - val_loss: 2.9219e-04\n",
            "Epoch 88/100\n",
            "23/23 [==============================] - 6s 247ms/step - loss: 2.4777e-04 - val_loss: 3.8431e-04\n",
            "Epoch 89/100\n",
            "23/23 [==============================] - 6s 281ms/step - loss: 2.9379e-04 - val_loss: 2.1082e-04\n",
            "Epoch 90/100\n",
            "23/23 [==============================] - 5s 204ms/step - loss: 2.4476e-04 - val_loss: 1.8593e-04\n",
            "Epoch 91/100\n",
            "23/23 [==============================] - 5s 204ms/step - loss: 3.7884e-04 - val_loss: 2.9854e-04\n",
            "Epoch 92/100\n",
            "23/23 [==============================] - 6s 250ms/step - loss: 2.6471e-04 - val_loss: 2.5164e-04\n",
            "Epoch 93/100\n",
            "23/23 [==============================] - 5s 207ms/step - loss: 2.5665e-04 - val_loss: 2.0164e-04\n",
            "Epoch 94/100\n",
            "23/23 [==============================] - 5s 207ms/step - loss: 2.6302e-04 - val_loss: 2.0749e-04\n",
            "Epoch 95/100\n",
            "23/23 [==============================] - 5s 204ms/step - loss: 2.5209e-04 - val_loss: 2.1833e-04\n",
            "Epoch 96/100\n",
            "23/23 [==============================] - 5s 204ms/step - loss: 2.4128e-04 - val_loss: 2.1269e-04\n",
            "Epoch 97/100\n",
            "23/23 [==============================] - 5s 206ms/step - loss: 2.3026e-04 - val_loss: 2.0585e-04\n",
            "Epoch 98/100\n",
            "23/23 [==============================] - 5s 233ms/step - loss: 2.3192e-04 - val_loss: 2.0741e-04\n",
            "Epoch 99/100\n",
            "23/23 [==============================] - 7s 315ms/step - loss: 2.2986e-04 - val_loss: 2.1966e-04\n",
            "Epoch 100/100\n",
            "23/23 [==============================] - 6s 256ms/step - loss: 2.2867e-04 - val_loss: 2.7263e-04\n"
          ]
        },
        {
          "output_type": "execute_result",
          "data": {
            "text/plain": [
              "<tensorflow.python.keras.callbacks.History at 0x7efee5ac1e50>"
            ]
          },
          "metadata": {},
          "execution_count": 17
        }
      ]
    },
    {
      "cell_type": "markdown",
      "source": [
        "**predict and check performance metrics**"
      ],
      "metadata": {
        "id": "O2_ds7tKrFjb"
      }
    },
    {
      "cell_type": "code",
      "source": [
        "train_predict = model.predict(x_train)\n",
        "test_predict = model.predict(x_test)"
      ],
      "metadata": {
        "id": "W8z-Gu7eoWZf"
      },
      "execution_count": null,
      "outputs": []
    },
    {
      "cell_type": "markdown",
      "source": [
        "**Transform back to original form**"
      ],
      "metadata": {
        "id": "ShkxBLyyrIzh"
      }
    },
    {
      "cell_type": "code",
      "source": [
        "train_predict = scaler.inverse_transform(train_predict)\n",
        "test_predict = scaler.inverse_transform(test_predict)"
      ],
      "metadata": {
        "id": "xCUWCBKSoZ-P"
      },
      "execution_count": null,
      "outputs": []
    },
    {
      "cell_type": "markdown",
      "source": [
        "**Calculate RMSE performance metrics**"
      ],
      "metadata": {
        "id": "bSQD6SEprLue"
      }
    },
    {
      "cell_type": "code",
      "source": [
        "math.sqrt(mean_squared_error(y_train, train_predict))"
      ],
      "metadata": {
        "colab": {
          "base_uri": "https://localhost:8080/"
        },
        "id": "lEFHuekCob-c",
        "outputId": "0cdf0dee-5130-4bc8-bdd8-95e5680a5b85"
      },
      "execution_count": null,
      "outputs": [
        {
          "output_type": "execute_result",
          "data": {
            "text/plain": [
              "164.3863436430439"
            ]
          },
          "metadata": {},
          "execution_count": 20
        }
      ]
    },
    {
      "cell_type": "markdown",
      "source": [
        "**Test Data RMSE**"
      ],
      "metadata": {
        "id": "HcdW3P_KrRHk"
      }
    },
    {
      "cell_type": "code",
      "source": [
        "math.sqrt(mean_squared_error(y_test, test_predict))"
      ],
      "metadata": {
        "colab": {
          "base_uri": "https://localhost:8080/"
        },
        "id": "12b-SaXsoerR",
        "outputId": "138b7122-7543-4614-9543-36ed0bc3b1aa"
      },
      "execution_count": null,
      "outputs": [
        {
          "output_type": "execute_result",
          "data": {
            "text/plain": [
              "106.85109540477771"
            ]
          },
          "metadata": {},
          "execution_count": 21
        }
      ]
    },
    {
      "cell_type": "markdown",
      "source": [
        "**Plotting**"
      ],
      "metadata": {
        "id": "M6NZbOzDrVZk"
      }
    },
    {
      "cell_type": "code",
      "source": [
        "look_back = 100\n",
        "trainPredictPlot = np.empty_like(df1)\n",
        "trainPredictPlot[:,:] = np.nan\n",
        "trainPredictPlot[look_back:len(train_predict) + look_back, :] = train_predict"
      ],
      "metadata": {
        "id": "ExIEayiYoh88"
      },
      "execution_count": null,
      "outputs": []
    },
    {
      "cell_type": "markdown",
      "source": [
        "**Shift test prediction for plotting**"
      ],
      "metadata": {
        "id": "E4yp13kWrZQd"
      }
    },
    {
      "cell_type": "code",
      "source": [
        "testPredictPlot = np.empty_like(df1)\n",
        "testPredictPlot[:,:] = np.nan\n",
        "testPredictPlot[len(train_predict) + (look_back * 2)+1:len(df1) - 1, :] = test_predict"
      ],
      "metadata": {
        "id": "43NennWZohzB"
      },
      "execution_count": null,
      "outputs": []
    },
    {
      "cell_type": "markdown",
      "source": [
        "**Plot baseline and predictions**"
      ],
      "metadata": {
        "id": "9I1AuhWgrcIV"
      }
    },
    {
      "cell_type": "code",
      "source": [
        "plt.plot(scaler.inverse_transform(df1))\n",
        "plt.plot(trainPredictPlot)\n",
        "plt.plot(testPredictPlot)\n",
        "plt.show()"
      ],
      "metadata": {
        "colab": {
          "base_uri": "https://localhost:8080/",
          "height": 265
        },
        "id": "1iEsUbBmohml",
        "outputId": "7856b6df-be01-4ba4-faf8-5c93cadbc238"
      },
      "execution_count": null,
      "outputs": [
        {
          "output_type": "display_data",
          "data": {
            "text/plain": [
              "<Figure size 432x288 with 1 Axes>"
            ],
            "image/png": "[encoded data removed]"
          },
          "metadata": {
            "needs_background": "light"
          }
        }
      ]
    }
  ]
}