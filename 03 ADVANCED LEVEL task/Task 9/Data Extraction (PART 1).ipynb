{
  "cells": [
    {
      "cell_type": "markdown",
      "id": "f977281d",
      "metadata": {
        "id": "f977281d"
      },
      "source": [
        "**LGMVIP - Data Science Intern, September-2022**\n",
        "\n",
        "**AUTHOR Name - Shaikh Zainab**\n",
        "\n",
        "**03 ADVANCED LEVEL task**\n",
        "\n",
        "**3)Handwritten equation solver using CNN :**\n",
        "\n",
        "Mathematical equation solver using character and symbol recognition using image processing and CNN.\n"
      ]
    },
    {
      "cell_type": "code",
      "execution_count": null,
      "id": "2ab2a282",
      "metadata": {
        "id": "2ab2a282"
      },
      "outputs": [],
      "source": [
        "import numpy as np\n",
        "import cv2\n",
        "from PIL import Image\n",
        "from matplotlib import pyplot as plt\n",
        "%matplotlib inline\n",
        "import os\n",
        "from os import listdir\n",
        "from os.path import isfile, join\n",
        "import pandas as pd"
      ]
    },
    {
      "cell_type": "code",
      "execution_count": null,
      "id": "16ee99eb",
      "metadata": {
        "id": "16ee99eb"
      },
      "outputs": [],
      "source": [
        "def load_images_from_folder(folder):\n",
        "    train_data=[]\n",
        "    for filename in os.listdir(folder):\n",
        "        img = cv2.imread(os.path.join(folder,filename),cv2.IMREAD_GRAYSCALE)\n",
        "        img=~img\n",
        "        if img is not None:\n",
        "            ret,thresh=cv2.threshold(img,127,255,cv2.THRESH_BINARY)\n",
        "\n",
        "            ctrs,ret=cv2.findContours(thresh,cv2.RETR_EXTERNAL,cv2.CHAIN_APPROX_NONE)\n",
        "            cnt=sorted(ctrs, key=lambda ctr: cv2.boundingRect(ctr)[0])\n",
        "            w=int(28)\n",
        "            h=int(28)\n",
        "            maxi=0\n",
        "            for c in cnt:\n",
        "                x,y,w,h=cv2.boundingRect(c)\n",
        "                maxi=max(w*h,maxi)\n",
        "                if maxi==w*h:\n",
        "                    x_max=x\n",
        "                    y_max=y\n",
        "                    w_max=w\n",
        "                    h_max=h\n",
        "            im_crop= thresh[y_max:y_max+h_max+10, x_max:x_max+w_max+10]\n",
        "            im_resize = cv2.resize(im_crop,(28,28))\n",
        "            im_resize=np.reshape(im_resize,(784,1))\n",
        "            train_data.append(im_resize)\n",
        "    return train_data"
      ]
    },
    {
      "cell_type": "code",
      "execution_count": null,
      "id": "e63a311b",
      "metadata": {
        "id": "e63a311b"
      },
      "outputs": [],
      "source": [
        "data=[]"
      ]
    },
    {
      "cell_type": "code",
      "execution_count": null,
      "id": "1992b312",
      "metadata": {
        "id": "1992b312",
        "outputId": "99099551-f996-4f2a-a553-df25368c2c34"
      },
      "outputs": [
        {
          "name": "stdout",
          "output_type": "stream",
          "text": [
            "33997\n"
          ]
        }
      ],
      "source": [
        "# Assign '-' = 10\n",
        "data=load_images_from_folder('E://Lets Grow More//extracted_images//data//extracted_images//-//')\n",
        "len(data)\n",
        "for i in range(0,len(data)):\n",
        "    data[i]=np.append(data[i],['10'])\n",
        "    \n",
        "print(len(data))"
      ]
    },
    {
      "cell_type": "code",
      "execution_count": null,
      "id": "3db9546c",
      "metadata": {
        "id": "3db9546c",
        "outputId": "4858ad26-65d3-4d07-8378-08aa78c52844"
      },
      "outputs": [
        {
          "name": "stdout",
          "output_type": "stream",
          "text": [
            "59109\n"
          ]
        }
      ],
      "source": [
        "# Assign + = 11\n",
        "data11=load_images_from_folder('E://Lets Grow More//extracted_images//data//extracted_images//+//')\n",
        "\n",
        "for i in range(0,len(data11)):\n",
        "    data11[i]=np.append(data11[i],['11'])\n",
        "data=np.concatenate((data,data11))\n",
        "print(len(data))"
      ]
    },
    {
      "cell_type": "code",
      "execution_count": null,
      "id": "135c201c",
      "metadata": {
        "id": "135c201c",
        "outputId": "08a99d65-64d9-4014-a4ad-b7ee5dfe1a1d"
      },
      "outputs": [
        {
          "name": "stdout",
          "output_type": "stream",
          "text": [
            "66023\n"
          ]
        }
      ],
      "source": [
        "data0=load_images_from_folder('E://Lets Grow More//extracted_images//data//extracted_images//0//')\n",
        "\n",
        "for i in range(0,len(data0)):\n",
        "    data0[i]=np.append(data0[i],['0'])\n",
        "data=np.concatenate((data,data0))\n",
        "print(len(data))"
      ]
    },
    {
      "cell_type": "code",
      "execution_count": null,
      "id": "e434cb31",
      "metadata": {
        "id": "e434cb31",
        "outputId": "82bb3615-14c8-4bc5-fbf4-6feb294e1e8c"
      },
      "outputs": [
        {
          "name": "stdout",
          "output_type": "stream",
          "text": [
            "92543\n"
          ]
        }
      ],
      "source": [
        "data1=load_images_from_folder('E://Lets Grow More//extracted_images//data//extracted_images//1//')\n",
        "\n",
        "for i in range(0,len(data1)):\n",
        "    data1[i]=np.append(data1[i],['1'])\n",
        "data=np.concatenate((data,data1))\n",
        "print(len(data))"
      ]
    },
    {
      "cell_type": "code",
      "execution_count": null,
      "id": "ea6622cf",
      "metadata": {
        "id": "ea6622cf",
        "outputId": "e0172262-cc1d-4e90-8a61-ac6f2e6bd4a8"
      },
      "outputs": [
        {
          "name": "stdout",
          "output_type": "stream",
          "text": [
            "118684\n"
          ]
        }
      ],
      "source": [
        "data2=load_images_from_folder('E://Lets Grow More//extracted_images//data//extracted_images//2//')\n",
        "\n",
        "for i in range(0,len(data2)):\n",
        "    data2[i]=np.append(data2[i],['2'])\n",
        "data=np.concatenate((data,data2))\n",
        "print(len(data))"
      ]
    },
    {
      "cell_type": "code",
      "execution_count": null,
      "id": "cfaee1a6",
      "metadata": {
        "id": "cfaee1a6",
        "outputId": "c9d79bd2-458b-487e-9840-5eabeadea8b5"
      },
      "outputs": [
        {
          "name": "stdout",
          "output_type": "stream",
          "text": [
            "129593\n"
          ]
        }
      ],
      "source": [
        "data3=load_images_from_folder('E://Lets Grow More//extracted_images//data//extracted_images//3//')\n",
        "\n",
        "for i in range(0,len(data3)):\n",
        "    data3[i]=np.append(data3[i],['3'])\n",
        "data=np.concatenate((data,data3))\n",
        "print(len(data))"
      ]
    },
    {
      "cell_type": "code",
      "execution_count": null,
      "id": "fbf2c56e",
      "metadata": {
        "id": "fbf2c56e",
        "outputId": "4cbc80ed-38cf-4c57-98ab-e6b9542635a8"
      },
      "outputs": [
        {
          "name": "stdout",
          "output_type": "stream",
          "text": [
            "136989\n"
          ]
        }
      ],
      "source": [
        "data4=load_images_from_folder('E://Lets Grow More//extracted_images//data//extracted_images//4//')\n",
        "\n",
        "for i in range(0,len(data4)):\n",
        "    data4[i]=np.append(data4[i],['4'])\n",
        "data=np.concatenate((data,data4))\n",
        "print(len(data))"
      ]
    },
    {
      "cell_type": "code",
      "execution_count": null,
      "id": "e3bbd794",
      "metadata": {
        "id": "e3bbd794",
        "outputId": "9cd4766f-a783-432e-d1b7-48f2b17d7f3d"
      },
      "outputs": [
        {
          "name": "stdout",
          "output_type": "stream",
          "text": [
            "140534\n"
          ]
        }
      ],
      "source": [
        "data5=load_images_from_folder('E://Lets Grow More//extracted_images//data//extracted_images//5//')\n",
        "\n",
        "for i in range(0,len(data5)):\n",
        "    data5[i]=np.append(data5[i],['5'])\n",
        "data=np.concatenate((data,data5))\n",
        "print(len(data))"
      ]
    },
    {
      "cell_type": "code",
      "execution_count": null,
      "id": "bc175e96",
      "metadata": {
        "id": "bc175e96",
        "outputId": "bb39ec40-c356-46d0-c36d-ff2e4b112b99"
      },
      "outputs": [
        {
          "name": "stdout",
          "output_type": "stream",
          "text": [
            "143652\n"
          ]
        }
      ],
      "source": [
        "data6=load_images_from_folder('E://Lets Grow More//extracted_images//data//extracted_images//6//')\n",
        "\n",
        "for i in range(0,len(data6)):\n",
        "    data6[i]=np.append(data6[i],['6'])\n",
        "data=np.concatenate((data,data6))\n",
        "print(len(data))"
      ]
    },
    {
      "cell_type": "code",
      "execution_count": null,
      "id": "e4e6ac89",
      "metadata": {
        "id": "e4e6ac89",
        "outputId": "66e4cb31-c732-427f-b740-59ef4f971df6"
      },
      "outputs": [
        {
          "name": "stdout",
          "output_type": "stream",
          "text": [
            "146561\n"
          ]
        }
      ],
      "source": [
        "data7=load_images_from_folder('E://Lets Grow More//extracted_images//data//extracted_images//7//')\n",
        "\n",
        "for i in range(0,len(data7)):\n",
        "    data7[i]=np.append(data7[i],['7'])\n",
        "data=np.concatenate((data,data7))\n",
        "print(len(data))"
      ]
    },
    {
      "cell_type": "code",
      "execution_count": null,
      "id": "a924f56f",
      "metadata": {
        "id": "a924f56f",
        "outputId": "d11c9d1c-723c-4292-ec0a-0884c972a11e"
      },
      "outputs": [
        {
          "name": "stdout",
          "output_type": "stream",
          "text": [
            "149629\n"
          ]
        }
      ],
      "source": [
        "data8=load_images_from_folder('E://Lets Grow More//extracted_images//data//extracted_images//8//')\n",
        "\n",
        "for i in range(0,len(data8)):\n",
        "    data8[i]=np.append(data8[i],['8'])\n",
        "data=np.concatenate((data,data8))\n",
        "print(len(data))"
      ]
    },
    {
      "cell_type": "code",
      "execution_count": null,
      "id": "437483bc",
      "metadata": {
        "id": "437483bc",
        "outputId": "abfabd66-b14c-4cfb-fbbb-16a5cd71a695"
      },
      "outputs": [
        {
          "name": "stdout",
          "output_type": "stream",
          "text": [
            "153366\n"
          ]
        }
      ],
      "source": [
        "data9=load_images_from_folder('E://Lets Grow More//extracted_images//data//extracted_images//9//')\n",
        "\n",
        "for i in range(0,len(data9)):\n",
        "    data9[i]=np.append(data9[i],['9'])\n",
        "data=np.concatenate((data,data9))\n",
        "print(len(data))"
      ]
    },
    {
      "cell_type": "code",
      "execution_count": null,
      "id": "921fa29a",
      "metadata": {
        "id": "921fa29a"
      },
      "outputs": [],
      "source": [
        "data12=load_images_from_folder('E://Lets Grow More//extracted_images//times//')\n",
        "\n",
        "for i in range(0,len(data12)):\n",
        "    data12[i]=np.append(data12[i],['12'])\n",
        "data=np.concatenate((data,data12))\n",
        "print(len(data))"
      ]
    },
    {
      "cell_type": "code",
      "execution_count": null,
      "id": "26c93a12",
      "metadata": {
        "id": "26c93a12"
      },
      "outputs": [],
      "source": [
        "df=pd.DataFrame(data,index=None)\n",
        "df.to_csv('train_final.csv',index=False)"
      ]
    },
    {
      "cell_type": "markdown",
      "id": "efa25040",
      "metadata": {
        "id": "efa25040"
      },
      "source": [
        "**Data Extraction has been completed**"
      ]
    }
  ],
  "metadata": {
    "kernelspec": {
      "display_name": "Python 3 (ipykernel)",
      "language": "python",
      "name": "python3"
    },
    "language_info": {
      "codemirror_mode": {
        "name": "ipython",
        "version": 3
      },
      "file_extension": ".py",
      "mimetype": "text/x-python",
      "name": "python",
      "nbconvert_exporter": "python",
      "pygments_lexer": "ipython3",
      "version": "3.9.7"
    },
    "colab": {
      "provenance": [],
      "collapsed_sections": []
    }
  },
  "nbformat": 4,
  "nbformat_minor": 5
}