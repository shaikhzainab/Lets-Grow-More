{
  "nbformat": 4,
  "nbformat_minor": 0,
  "metadata": {
    "colab": {
      "provenance": [],
      "collapsed_sections": []
    },
    "kernelspec": {
      "name": "python3",
      "display_name": "Python 3"
    },
    "language_info": {
      "name": "python"
    }
  },
  "cells": [
    {
      "cell_type": "markdown",
      "source": [
        "**LGMVIP - Data Science Intern, September-2022**\n",
        "\n",
        "**AUTHOR Name - Shaikh Zainab**"
      ],
      "metadata": {
        "id": "cJ15s7U7jTno"
      }
    },
    {
      "cell_type": "markdown",
      "source": [
        "**03 ADVANCED LEVEL task**"
      ],
      "metadata": {
        "id": "HfLedg7U-I_o"
      }
    },
    {
      "cell_type": "markdown",
      "source": [
        "**2)Next Word Prediction:**\n",
        "\n",
        "Using Tensorflow and Keras library train a RNN, to predict the next word.\n"
      ],
      "metadata": {
        "id": "iwFIGE4y-MVP"
      }
    },
    {
      "cell_type": "markdown",
      "source": [
        "**Importing Libraries**"
      ],
      "metadata": {
        "id": "bdDlBAOW_uWC"
      }
    },
    {
      "cell_type": "code",
      "execution_count": null,
      "metadata": {
        "id": "tfnpMZtG-IYN"
      },
      "outputs": [],
      "source": [
        "import numpy as np\n",
        "np.random.seed(42)\n",
        "import tensorflow as tf\n",
        "tf.random.set_seed(42)\n",
        " \n",
        "from tensorflow.keras.models import Sequential, load_model\n",
        "from tensorflow.keras.layers import Dense, Activation\n",
        "from tensorflow.keras.layers import LSTM, Dropout\n",
        "from tensorflow.keras.layers import TimeDistributed\n",
        "from tensorflow.keras.layers import Dense, Activation, Dropout, RepeatVector\n",
        "from tensorflow.keras.optimizers import  RMSprop\n",
        "import matplotlib.pyplot as plt\n",
        "import pickle\n",
        "import heapq"
      ]
    },
    {
      "cell_type": "markdown",
      "source": [
        "**Loading the data**"
      ],
      "metadata": {
        "id": "WN8xx9MG_xOw"
      }
    },
    {
      "cell_type": "code",
      "source": [
        "path = '/content/drive/MyDrive/Colab Notebooks/Lets Grow More Dataset/1661-0.txt'\n",
        "text = open(path,encoding = \"utf8\").read().lower()\n",
        "print('corpus length:', len(text))"
      ],
      "metadata": {
        "colab": {
          "base_uri": "https://localhost:8080/"
        },
        "id": "zEq0IZgE_dV-",
        "outputId": "79cd7720-ae3f-4a09-c17e-ea67ce632776"
      },
      "execution_count": null,
      "outputs": [
        {
          "output_type": "stream",
          "name": "stdout",
          "text": [
            "corpus length: 581888\n"
          ]
        }
      ]
    },
    {
      "cell_type": "markdown",
      "source": [
        "**Data Preprocessing**"
      ],
      "metadata": {
        "id": "TGKb4pTkADCc"
      }
    },
    {
      "cell_type": "code",
      "source": [
        "character = sorted(list(set(text)))\n",
        "char_indices = dict((c, i) for i, c in enumerate(character))\n",
        "indices_char = dict((i, c) for i, c in enumerate(character))\n",
        " \n",
        "print(f'unique chars: {len(character)}')"
      ],
      "metadata": {
        "colab": {
          "base_uri": "https://localhost:8080/"
        },
        "id": "hSIt8agNABGg",
        "outputId": "2f8a7851-cd86-4edd-81bf-d725dd3c1711"
      },
      "execution_count": null,
      "outputs": [
        {
          "output_type": "stream",
          "name": "stdout",
          "text": [
            "unique chars: 73\n"
          ]
        }
      ]
    },
    {
      "cell_type": "markdown",
      "source": [
        "**chunk 40 characters with 3 sequences**"
      ],
      "metadata": {
        "id": "vFRoiolxAIIN"
      }
    },
    {
      "cell_type": "code",
      "source": [
        "seq_len = 40\n",
        "step = 3\n",
        "sentences = []\n",
        "next_chars = []\n",
        "for i in range(0, len(text) - seq_len, step):\n",
        "    sentences.append(text[i: i + seq_len ])\n",
        "    next_chars.append(text[i + seq_len])\n",
        "print(f'num training examples: {len(sentences)}')"
      ],
      "metadata": {
        "colab": {
          "base_uri": "https://localhost:8080/"
        },
        "id": "sLRjjvAuAGBy",
        "outputId": "4b289735-db9c-44a4-c8c1-d7c55031f217"
      },
      "execution_count": null,
      "outputs": [
        {
          "output_type": "stream",
          "name": "stdout",
          "text": [
            "num training examples: 193950\n"
          ]
        }
      ]
    },
    {
      "cell_type": "markdown",
      "source": [
        "**generating our features and labels ,one hot encoding**"
      ],
      "metadata": {
        "id": "TFy0vxpVANAt"
      }
    },
    {
      "cell_type": "code",
      "source": [
        "X = np.zeros((len(sentences), seq_len, len(character)), dtype=np.bool)\n",
        "y = np.zeros((len(sentences), len(character)), dtype=np.bool)\n",
        "for i, sentence in enumerate(sentences):\n",
        "    for t, char in enumerate(sentence):\n",
        "        X[i, t, char_indices[char]] = 1\n",
        "    y[i, char_indices[next_chars[i]]] = 1\n",
        "\n",
        "sentences[124]\n",
        "next_chars[100]"
      ],
      "metadata": {
        "colab": {
          "base_uri": "https://localhost:8080/",
          "height": 159
        },
        "id": "wEKD54N7AKwZ",
        "outputId": "e7b35c10-d343-410b-e760-2f06e70167a5"
      },
      "execution_count": null,
      "outputs": [
        {
          "output_type": "stream",
          "name": "stderr",
          "text": [
            "/usr/local/lib/python3.7/dist-packages/ipykernel_launcher.py:1: DeprecationWarning: `np.bool` is a deprecated alias for the builtin `bool`. To silence this warning, use `bool` by itself. Doing this will not modify any behavior and is safe. If you specifically wanted the numpy scalar type, use `np.bool_` here.\n",
            "Deprecated in NumPy 1.20; for more details and guidance: https://numpy.org/devdocs/release/1.20.0-notes.html#deprecations\n",
            "  \"\"\"Entry point for launching an IPython kernel.\n",
            "/usr/local/lib/python3.7/dist-packages/ipykernel_launcher.py:2: DeprecationWarning: `np.bool` is a deprecated alias for the builtin `bool`. To silence this warning, use `bool` by itself. Doing this will not modify any behavior and is safe. If you specifically wanted the numpy scalar type, use `np.bool_` here.\n",
            "Deprecated in NumPy 1.20; for more details and guidance: https://numpy.org/devdocs/release/1.20.0-notes.html#deprecations\n",
            "  \n"
          ]
        },
        {
          "output_type": "execute_result",
          "data": {
            "text/plain": [
              "'e'"
            ],
            "application/vnd.google.colaboratory.intrinsic+json": {
              "type": "string"
            }
          },
          "metadata": {},
          "execution_count": 6
        }
      ]
    },
    {
      "cell_type": "markdown",
      "source": [
        "**one hot encoded data**"
      ],
      "metadata": {
        "id": "FxRiVQjEAUJN"
      }
    },
    {
      "cell_type": "code",
      "source": [
        "X[0][0]"
      ],
      "metadata": {
        "colab": {
          "base_uri": "https://localhost:8080/"
        },
        "id": "3FJBGBYAARyC",
        "outputId": "31dd821f-65ca-4857-fe7a-9ef189ec48b8"
      },
      "execution_count": null,
      "outputs": [
        {
          "output_type": "execute_result",
          "data": {
            "text/plain": [
              "array([False, False, False, False, False, False, False, False, False,\n",
              "       False, False, False, False, False, False, False, False, False,\n",
              "       False, False, False, False, False, False, False, False, False,\n",
              "       False, False, False, False, False, False, False, False, False,\n",
              "       False, False, False, False, False, False, False, False, False,\n",
              "       False, False, False, False, False, False, False, False, False,\n",
              "       False, False, False, False, False, False, False, False, False,\n",
              "       False, False, False, False, False, False, False, False, False,\n",
              "        True])"
            ]
          },
          "metadata": {},
          "execution_count": 7
        }
      ]
    },
    {
      "cell_type": "code",
      "source": [
        "y[0]"
      ],
      "metadata": {
        "colab": {
          "base_uri": "https://localhost:8080/"
        },
        "id": "C8rbfT2IAW9a",
        "outputId": "5432e745-bec1-4fe8-94a1-887aa5525d7e"
      },
      "execution_count": null,
      "outputs": [
        {
          "output_type": "execute_result",
          "data": {
            "text/plain": [
              "array([False, False, False, False, False, False, False, False, False,\n",
              "       False, False, False, False, False, False, False, False, False,\n",
              "       False, False, False, False, False, False, False, False, False,\n",
              "       False, False, False, False, False, False, False, False, False,\n",
              "       False, False, False, False, False, False, False, False, False,\n",
              "       False, False, False, False, False, False,  True, False, False,\n",
              "       False, False, False, False, False, False, False, False, False,\n",
              "       False, False, False, False, False, False, False, False, False,\n",
              "       False])"
            ]
          },
          "metadata": {},
          "execution_count": 8
        }
      ]
    },
    {
      "cell_type": "code",
      "source": [
        "X.shape"
      ],
      "metadata": {
        "colab": {
          "base_uri": "https://localhost:8080/"
        },
        "id": "ZEn20PEDAZNE",
        "outputId": "07f8583f-46aa-447c-ebf3-617d018d2ea4"
      },
      "execution_count": null,
      "outputs": [
        {
          "output_type": "execute_result",
          "data": {
            "text/plain": [
              "(193950, 40, 73)"
            ]
          },
          "metadata": {},
          "execution_count": 9
        }
      ]
    },
    {
      "cell_type": "code",
      "source": [
        "y.shape"
      ],
      "metadata": {
        "colab": {
          "base_uri": "https://localhost:8080/"
        },
        "id": "f4F39UXyAcCp",
        "outputId": "bfd056d6-351f-43e4-9b80-b22ed6402d48"
      },
      "execution_count": null,
      "outputs": [
        {
          "output_type": "execute_result",
          "data": {
            "text/plain": [
              "(193950, 73)"
            ]
          },
          "metadata": {},
          "execution_count": 10
        }
      ]
    },
    {
      "cell_type": "markdown",
      "source": [
        "**Creating the model**"
      ],
      "metadata": {
        "id": "Ih2M0Su7Afa-"
      }
    },
    {
      "cell_type": "code",
      "source": [
        "model = Sequential()\n",
        "model.add(LSTM(128, input_shape=(seq_len, len(character))))\n",
        "model.add(Dense(len(character)))\n",
        "model.add(Activation('softmax'))"
      ],
      "metadata": {
        "id": "M-SkNzcIAdu-"
      },
      "execution_count": null,
      "outputs": []
    },
    {
      "cell_type": "markdown",
      "source": [
        "**Model summary**"
      ],
      "metadata": {
        "id": "13OPzr17Aj1i"
      }
    },
    {
      "cell_type": "code",
      "source": [
        "model.summary()"
      ],
      "metadata": {
        "colab": {
          "base_uri": "https://localhost:8080/"
        },
        "id": "fWan5qu1AiE0",
        "outputId": "472e8c67-169b-4090-8a5f-fd29923ad27f"
      },
      "execution_count": null,
      "outputs": [
        {
          "output_type": "stream",
          "name": "stdout",
          "text": [
            "Model: \"sequential\"\n",
            "_________________________________________________________________\n",
            " Layer (type)                Output Shape              Param #   \n",
            "=================================================================\n",
            " lstm (LSTM)                 (None, 128)               103424    \n",
            "                                                                 \n",
            " dense (Dense)               (None, 73)                9417      \n",
            "                                                                 \n",
            " activation (Activation)     (None, 73)                0         \n",
            "                                                                 \n",
            "=================================================================\n",
            "Total params: 112,841\n",
            "Trainable params: 112,841\n",
            "Non-trainable params: 0\n",
            "_________________________________________________________________\n"
          ]
        }
      ]
    },
    {
      "cell_type": "markdown",
      "source": [
        "**Training our model**"
      ],
      "metadata": {
        "id": "2p6MwHP-Aqih"
      }
    },
    {
      "cell_type": "code",
      "source": [
        "optimizer = RMSprop(learning_rate=0.01)\n",
        "model.compile(loss='categorical_crossentropy', optimizer=optimizer, metrics=['accuracy'])\n",
        "history = model.fit(X, y,\n",
        "                    validation_split=0.01, \n",
        "                    batch_size=128,\n",
        "                    epochs=7, \n",
        "                    shuffle=True).history"
      ],
      "metadata": {
        "colab": {
          "base_uri": "https://localhost:8080/"
        },
        "id": "-oZPDbiAAmCf",
        "outputId": "63565251-80b8-4fa5-87ed-f1739acb17b9"
      },
      "execution_count": null,
      "outputs": [
        {
          "output_type": "stream",
          "name": "stdout",
          "text": [
            "Epoch 1/7\n",
            "1501/1501 [==============================] - 171s 113ms/step - loss: 1.9428 - accuracy: 0.4283 - val_loss: 2.1991 - val_accuracy: 0.3979\n",
            "Epoch 2/7\n",
            "1501/1501 [==============================] - 168s 112ms/step - loss: 1.6089 - accuracy: 0.5182 - val_loss: 2.0704 - val_accuracy: 0.4515\n",
            "Epoch 3/7\n",
            "1501/1501 [==============================] - 168s 112ms/step - loss: 1.5159 - accuracy: 0.5425 - val_loss: 1.9946 - val_accuracy: 0.4665\n",
            "Epoch 4/7\n",
            "1501/1501 [==============================] - 169s 112ms/step - loss: 1.4664 - accuracy: 0.5576 - val_loss: 1.9774 - val_accuracy: 0.4711\n",
            "Epoch 5/7\n",
            "1501/1501 [==============================] - 169s 112ms/step - loss: 1.4351 - accuracy: 0.5660 - val_loss: 2.0068 - val_accuracy: 0.4613\n",
            "Epoch 6/7\n",
            "1501/1501 [==============================] - 168s 112ms/step - loss: 1.4111 - accuracy: 0.5719 - val_loss: 1.9882 - val_accuracy: 0.4732\n",
            "Epoch 7/7\n",
            "1501/1501 [==============================] - 167s 112ms/step - loss: 1.3926 - accuracy: 0.5774 - val_loss: 2.0006 - val_accuracy: 0.4737\n"
          ]
        }
      ]
    },
    {
      "cell_type": "markdown",
      "source": [
        "**saving our model**"
      ],
      "metadata": {
        "id": "v3X2Z0i1AwE7"
      }
    },
    {
      "cell_type": "code",
      "source": [
        "model.save('NW_keras_model.h5')\n",
        "pickle.dump(history, open(\"history.p\", \"wb\"))"
      ],
      "metadata": {
        "id": "AqaXv1QmAuIv"
      },
      "execution_count": null,
      "outputs": []
    },
    {
      "cell_type": "markdown",
      "source": [
        "**loading our model**"
      ],
      "metadata": {
        "id": "O7IQiHmKA8KU"
      }
    },
    {
      "cell_type": "code",
      "source": [
        "model = load_model('NW_keras_model.h5')\n",
        "history = pickle.load(open(\"history.p\", \"rb\"))"
      ],
      "metadata": {
        "id": "vSlcV00QAy6Q"
      },
      "execution_count": null,
      "outputs": []
    },
    {
      "cell_type": "markdown",
      "source": [
        "**Model Evaluation**"
      ],
      "metadata": {
        "id": "71uV0MD7BAlt"
      }
    },
    {
      "cell_type": "code",
      "source": [
        "loss_and_acc=model.evaluate(X,y)\n",
        "print(\"Test Loss\", loss_and_acc[0])\n",
        "print(\"Test Accuracy\", loss_and_acc[1])"
      ],
      "metadata": {
        "colab": {
          "base_uri": "https://localhost:8080/"
        },
        "id": "QVhShLXDA-_S",
        "outputId": "ae7bdb4d-c45d-48a7-da2f-5383c3fdac47"
      },
      "execution_count": null,
      "outputs": [
        {
          "output_type": "stream",
          "name": "stdout",
          "text": [
            "6061/6061 [==============================] - 87s 14ms/step - loss: 1.3519 - accuracy: 0.5878\n",
            "Test Loss 1.3518881797790527\n",
            "Test Accuracy 0.5877648591995239\n"
          ]
        }
      ]
    },
    {
      "cell_type": "markdown",
      "source": [
        "**Plotting training and validation plots**"
      ],
      "metadata": {
        "id": "pJ4TH32SBFLa"
      }
    },
    {
      "cell_type": "code",
      "source": [
        "acc = history['accuracy']\n",
        "val_acc = history['val_accuracy']\n",
        "loss = history['loss']\n",
        "val_loss = history['val_loss']\n",
        "epochs = range(len(acc))\n",
        "\n",
        "\n",
        "fig, ax = plt.subplots(nrows=1, ncols=2, figsize=(20, 6))\n",
        "ax[0].plot(epochs, acc, 'y', label='Training accuracy')\n",
        "ax[0].plot(epochs, val_acc, 'g', label='Validation accuracy')\n",
        "ax[0].legend(loc=0)\n",
        "ax[1].plot(epochs, loss, 'y', label='Training loss')\n",
        "ax[1].plot(epochs, val_loss, 'g', label='Validation loss')\n",
        "ax[1].legend(loc=0)\n",
        "\n",
        "plt.suptitle('Training and validation')\n",
        "plt.show()"
      ],
      "metadata": {
        "id": "qQRAgQBGBDML",
        "colab": {
          "base_uri": "https://localhost:8080/",
          "height": 417
        },
        "outputId": "33addcf7-d321-4dd8-da51-fb3f01e458f9"
      },
      "execution_count": null,
      "outputs": [
        {
          "output_type": "display_data",
          "data": {
            "text/plain": [
              "<Figure size 1440x432 with 2 Axes>"
            ],
            "image/png": "[encoded data removed]"
          },
          "metadata": {
            "needs_background": "light"
          }
        }
      ]
    },
    {
      "cell_type": "code",
      "source": [
        "def prepare_input(text):\n",
        "    x = np.zeros((1, seq_len, len(character)))\n",
        "    for t, char in enumerate(text):\n",
        "        x[0, t, char_indices[char]] = 1.\n",
        "        \n",
        "    return x\n",
        "\n",
        "prepare_input(\"This is an example of input of our model\".lower())"
      ],
      "metadata": {
        "colab": {
          "base_uri": "https://localhost:8080/"
        },
        "id": "xC-YWIpkBHtW",
        "outputId": "686de50a-d5e2-4802-ec69-ea9f5f824823"
      },
      "execution_count": null,
      "outputs": [
        {
          "output_type": "execute_result",
          "data": {
            "text/plain": [
              "array([[[0., 0., 0., ..., 0., 0., 0.],\n",
              "        [0., 0., 0., ..., 0., 0., 0.],\n",
              "        [0., 0., 0., ..., 0., 0., 0.],\n",
              "        ...,\n",
              "        [0., 0., 0., ..., 0., 0., 0.],\n",
              "        [0., 0., 0., ..., 0., 0., 0.],\n",
              "        [0., 0., 0., ..., 0., 0., 0.]]])"
            ]
          },
          "metadata": {},
          "execution_count": 18
        }
      ]
    },
    {
      "cell_type": "markdown",
      "source": [
        "**functions to get next probable characters**"
      ],
      "metadata": {
        "id": "D57VaxG1BL-j"
      }
    },
    {
      "cell_type": "code",
      "source": [
        "def sample(preds, top_n=3):\n",
        "    preds = np.asarray(preds).astype('float64')\n",
        "    preds = np.log(preds)\n",
        "    exp_preds = np.exp(preds)\n",
        "    preds = exp_preds / np.sum(exp_preds)\n",
        "    \n",
        "    return heapq.nlargest(top_n, range(len(preds)), preds.take)"
      ],
      "metadata": {
        "id": "ZZGoDrwdBMqu"
      },
      "execution_count": null,
      "outputs": []
    },
    {
      "cell_type": "code",
      "source": [
        "def predict_completion(text):\n",
        "    original_text = text\n",
        "    generated = text\n",
        "    completion = ''\n",
        "    while True:\n",
        "        x = prepare_input(text)\n",
        "        preds = model.predict(x, verbose=0)[0]\n",
        "        next_index = sample(preds, top_n=1)[0]\n",
        "        next_char = indices_char[next_index]\n",
        "        text = text[1:] + next_char\n",
        "        completion += next_char\n",
        "        \n",
        "        if len(original_text + completion) + 2 > len(original_text) and next_char == ' ':\n",
        "            return completion"
      ],
      "metadata": {
        "id": "1Y5xLO30BOh-"
      },
      "execution_count": null,
      "outputs": []
    },
    {
      "cell_type": "code",
      "source": [
        "def predict_completions(text, n=3):\n",
        "    x = prepare_input(text)\n",
        "    preds = model.predict(x, verbose=0)[0]\n",
        "    next_indices = sample(preds, n)\n",
        "    return [indices_char[idx] + predict_completion(text[1:] + indices_char[idx]) for idx in next_indices]"
      ],
      "metadata": {
        "id": "FC5LsJTpBQhv"
      },
      "execution_count": null,
      "outputs": []
    },
    {
      "cell_type": "markdown",
      "source": [
        "**Prediction**"
      ],
      "metadata": {
        "id": "ns89x5vQBUer"
      }
    },
    {
      "cell_type": "code",
      "source": [
        "quotes = [   \n",
        "    \"Deep learning is subset of machine learning,which is essentially a neural network with three or more layers.\",\n",
        "    \"Machine learning  is the study of computer algorithms that improve automatically through experience and by the use of data.\",\n",
        "    \"It is not a lack of love, but a lack of friendship that makes unhappy marriages.\",\n",
        "    \"Recurrent neural network (RNN) is a type of artificial neural network which uses sequential data or time series data.\",\n",
        "    \"Thanks for spending your precious time to view my work.\"  \n",
        "    \n",
        "]"
      ],
      "metadata": {
        "id": "3JMv5SaSBVVV"
      },
      "execution_count": null,
      "outputs": []
    },
    {
      "cell_type": "code",
      "source": [
        "for q in quotes:\n",
        "    seq = q[:40].lower()\n",
        "    print(seq)\n",
        "    print(predict_completions(seq, 5))\n",
        "    print()"
      ],
      "metadata": {
        "colab": {
          "base_uri": "https://localhost:8080/"
        },
        "id": "lWk4VthCBXkQ",
        "outputId": "b75fe7d0-1c9b-408a-82ad-49ba08d355a0"
      },
      "execution_count": null,
      "outputs": [
        {
          "output_type": "stream",
          "name": "stdout",
          "text": [
            "deep learning is subset of machine learn\n",
            "[' at ', 'ed ', 'ned ', '. ', 'ate ']\n",
            "\n",
            "machine learning  is the study of comput\n",
            "['ing ', 'ed ', ' of ', 'ly ', ', ']\n",
            "\n",
            "it is not a lack of love, but a lack of \n",
            "['the ', 'a ', 'my ', 'his ', 'you ']\n",
            "\n",
            "recurrent neural network (rnn) is a type\n",
            "['wroting ', 'mer ', 'fare ', 'hather ', 'ss ']\n",
            "\n",
            "thanks for spending your precious time t\n",
            "['o ', 'he ', 'rack ', 'eres ', 'aking ']\n",
            "\n"
          ]
        }
      ]
    }
  ]
}